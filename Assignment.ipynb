{
  "nbformat": 4,
  "nbformat_minor": 0,
  "metadata": {
    "colab": {
      "provenance": [],
      "authorship_tag": "ABX9TyPZ4/PLLUfAcsgXd++5u7pb",
      "include_colab_link": true
    },
    "kernelspec": {
      "name": "python3",
      "display_name": "Python 3"
    },
    "language_info": {
      "name": "python"
    }
  },
  "cells": [
    {
      "cell_type": "markdown",
      "metadata": {
        "id": "view-in-github",
        "colab_type": "text"
      },
      "source": [
        "<a href=\"https://colab.research.google.com/github/Nandini1230/LoveLocal_Assisgnment_NandiniHazarika/blob/main/Assignment.ipynb\" target=\"_parent\"><img src=\"https://colab.research.google.com/assets/colab-badge.svg\" alt=\"Open In Colab\"/></a>"
      ]
    },
    {
      "cell_type": "markdown",
      "source": [
        "EASY 3"
      ],
      "metadata": {
        "id": "NFaDdkqziQIY"
      }
    },
    {
      "cell_type": "code",
      "execution_count": 7,
      "metadata": {
        "colab": {
          "base_uri": "https://localhost:8080/"
        },
        "id": "wxYxJQmthdqg",
        "outputId": "6fcf007b-c606-4fc9-ded3-fae4cb080ea1"
      },
      "outputs": [
        {
          "output_type": "stream",
          "name": "stdout",
          "text": [
            "Enter the number of rows for Pascal's triangle: 3\n",
            "[[1], [1, 1], [1, 2, 1]]\n"
          ]
        }
      ],
      "source": [
        "def generate_pascals_triangle(num_rows):\n",
        "    triangle = []\n",
        "    for row_num in range(num_rows):\n",
        "        row = [1] * (row_num + 1)\n",
        "        for j in range(1, row_num):\n",
        "            row[j] = triangle[row_num - 1][j - 1] + triangle[row_num - 1][j]\n",
        "        triangle.append(row)\n",
        "    return triangle\n",
        "\n",
        "num_rows = int(input(\"Enter the number of rows for Pascal's triangle: \"))\n",
        "print(generate_pascals_triangle(num_rows))"
      ]
    },
    {
      "cell_type": "markdown",
      "source": [
        "MEDIUM 2"
      ],
      "metadata": {
        "id": "_oFlNxM3iXlf"
      }
    },
    {
      "cell_type": "code",
      "source": [
        "def majority_element(nums):\n",
        "    if not nums:\n",
        "        return []\n",
        "\n",
        "    candidate1, candidate2, count1, count2 = None, None, 0, 0\n",
        "\n",
        "    for num in nums:\n",
        "        if candidate1 == num:\n",
        "            count1 += 1\n",
        "        elif candidate2 == num:\n",
        "            count2 += 1\n",
        "        elif count1 == 0:\n",
        "            candidate1, count1 = num, 1\n",
        "        elif count2 == 0:\n",
        "            candidate2, count2 = num, 1\n",
        "        else:\n",
        "            count1 -= 1\n",
        "            count2 -= 1\n",
        "\n",
        "    result = []\n",
        "    for candidate in [candidate1, candidate2]:\n",
        "        if nums.count(candidate) > len(nums) // 3:\n",
        "            result.append(candidate)\n",
        "\n",
        "    return result\n",
        "\n",
        "input_string = input(\"Enter the numbers separated by commas: \")\n",
        "nums = [int(num) for num in input_string.split(',') if num.strip().isdigit()]\n",
        "\n",
        "print(\"Elements appearing more than n/3 times:\", majority_element(nums))"
      ],
      "metadata": {
        "id": "cDPwrJaahpHe",
        "colab": {
          "base_uri": "https://localhost:8080/"
        },
        "outputId": "7722f6cc-95fd-4e9b-aeb6-c994a722f04a"
      },
      "execution_count": 6,
      "outputs": [
        {
          "output_type": "stream",
          "name": "stdout",
          "text": [
            "Enter the numbers separated by commas: 3,5,8,9,8,8\n",
            "Elements appearing more than n/3 times: [8]\n"
          ]
        }
      ]
    },
    {
      "cell_type": "markdown",
      "source": [
        "Hard 2"
      ],
      "metadata": {
        "id": "WQ3vHzssuhZg"
      }
    },
    {
      "cell_type": "code",
      "source": [
        "def shortest_palindrome(s):\n",
        "    if not s:\n",
        "        return \"\"\n",
        "\n",
        "    rev_s = s[::-1]\n",
        "    for i in range(len(s)):\n",
        "        if s.startswith(rev_s[i:]):\n",
        "            return rev_s[:i] + s\n",
        "\n",
        "input_str = input(\"Enter a string: \")\n",
        "print(\"The shortest palindrome is:\", shortest_palindrome(input_str))"
      ],
      "metadata": {
        "id": "fALivicOikJW",
        "colab": {
          "base_uri": "https://localhost:8080/"
        },
        "outputId": "d4736082-e180-42f9-f9f7-a3ca5ea21817"
      },
      "execution_count": 8,
      "outputs": [
        {
          "output_type": "stream",
          "name": "stdout",
          "text": [
            "Enter a string: aaceeaa\n",
            "The shortest palindrome is: aaeecaaceeaa\n"
          ]
        }
      ]
    },
    {
      "cell_type": "code",
      "source": [],
      "metadata": {
        "id": "LpI6iFdCuSaK"
      },
      "execution_count": null,
      "outputs": []
    }
  ]
}